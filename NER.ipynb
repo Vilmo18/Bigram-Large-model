{
  "cells": [
    {
      "cell_type": "markdown",
      "metadata": {
        "id": "view-in-github",
        "colab_type": "text"
      },
      "source": [
        "<a href=\"https://colab.research.google.com/github/Vilmo18/Fine-Tuning-LLMs/blob/main/NER.ipynb\" target=\"_parent\"><img src=\"https://colab.research.google.com/assets/colab-badge.svg\" alt=\"Open In Colab\"/></a>"
      ]
    },
    {
      "cell_type": "code",
      "execution_count": null,
      "metadata": {
        "id": "S77zsZak_gUb"
      },
      "outputs": [],
      "source": [
        "!pip install flair\n",
        "!pip install datasets\n",
        "!pip install sentencepiece"
      ]
    },
    {
      "cell_type": "code",
      "execution_count": null,
      "metadata": {
        "id": "B4hkpL34-RqD"
      },
      "outputs": [],
      "source": [
        "from flair.data import Sentence\n",
        "from flair.models import SequenceTagger\n",
        "from datasets import load_dataset\n",
        "import sentencepiece as spm\n"
      ]
    },
    {
      "cell_type": "code",
      "execution_count": null,
      "metadata": {
        "id": "PjISwkqkCur_"
      },
      "outputs": [],
      "source": [
        "tagger = SequenceTagger.load('flair/ner-english-ontonotes-large')"
      ]
    },
    {
      "cell_type": "code",
      "execution_count": null,
      "metadata": {
        "colab": {
          "base_uri": "https://localhost:8080/"
        },
        "id": "IFjTuRU1Bw9f",
        "outputId": "5f108b3c-393e-4b0a-9107-7b3b42c858a2"
      },
      "outputs": [
        {
          "output_type": "stream",
          "name": "stdout",
          "text": [
            "[PERSON] threatens to quit [ORG] . The [GPE] and [GPE] striker is upset over the early start to the new season . He says: We are the principal actors, but ... are never listened to.\n"
          ]
        }
      ],
      "source": [
        "included_tags = {\n",
        "    \"EVENT\", \"FAC\", \"GPE\", \"LANGUAGE\", \"LAW\", \"LOCATION\", \"NORP\",\n",
        "    \"ORG\", \"PERSON\", \"PRODUCT\", \"WORK_OF_ART\"\n",
        "}\n",
        "\n",
        "excluded_tags = {\n",
        "    \"CARDINAL\", \"DATE\", \"MONEY\", \"ORDINAL\", \"PERCENT\", \"QUANTITY\", \"TIME\"\n",
        "}\n",
        "\n",
        "def anonymize_entities(text):\n",
        "    sentence = Sentence(text)\n",
        "    tagger.predict(sentence)\n",
        "\n",
        "    token_replacements = {}\n",
        "\n",
        "    for entity in sentence.get_spans('ner'):\n",
        "        if entity.tag in included_tags:\n",
        "            #Replace the entity with its tag\n",
        "            token_replacements[(entity.start_position, entity.end_position)] = f\"[{entity.tag}]\"\n",
        "\n",
        "    #Create anonymized text by replacing entities with their tags\n",
        "    anonymized_text = ''\n",
        "    last_idx = 0\n",
        "\n",
        "    for (start, end), replacement in sorted(token_replacements.items()):\n",
        "        anonymized_text += text[last_idx:start] + replacement\n",
        "        last_idx = end\n",
        "\n",
        "    anonymized_text += text[last_idx:]\n",
        "\n",
        "    return anonymized_text\n",
        "\n",
        "\n",
        "text = \"Francesco Totti threatens to quit the Italian Players' Association . The Italy and Roma striker is upset over the early start to the new season . He says: We are the principal actors, but ... are never listened to.\"\n",
        "anonymized_text = anonymize_entities(text)\n",
        "print(anonymized_text)\n"
      ]
    },
    {
      "cell_type": "code",
      "execution_count": null,
      "metadata": {
        "id": "705OivnlC-vF"
      },
      "outputs": [],
      "source": [
        "\n",
        "ds = load_dataset(\"abisee/cnn_dailymail\", \"3.0.0\")"
      ]
    },
    {
      "cell_type": "code",
      "execution_count": null,
      "metadata": {
        "id": "4Fj6yD2bHEYj"
      },
      "outputs": [],
      "source": [
        "ds"
      ]
    },
    {
      "cell_type": "code",
      "execution_count": null,
      "metadata": {
        "id": "XKrfZWWrG9mb"
      },
      "outputs": [],
      "source": [
        "with open(\"article.txt\", \"w\") as articles , open(\"highlights.txt\", \"w\") as highlights:\n",
        "    for it in ds[\"train\"]:\n",
        "        articles.write(it[\"article\"] + \"\\n\")\n",
        "        highlights.write(it[\"highlights\"] + \"\\n\")"
      ]
    },
    {
      "cell_type": "code",
      "execution_count": null,
      "metadata": {
        "id": "atmjyvtjjy8Z"
      },
      "outputs": [],
      "source": [
        "!wget https://raw.githubusercontent.com/google/sentencepiece/master/data/botchan.txt"
      ]
    },
    {
      "cell_type": "code",
      "execution_count": null,
      "metadata": {
        "colab": {
          "base_uri": "https://localhost:8080/"
        },
        "id": "3lCSlZvDhkTj",
        "outputId": "c0b46105-a83c-4ff0-f82b-353bb0b0305e"
      },
      "outputs": [
        {
          "output_type": "stream",
          "name": "stdout",
          "text": [
            "['▁', '[PERSON]', '▁threat', 'ens', '▁to', '▁quit', '▁', '[ORG]', '.', '▁The', '▁', '[GPE]', '▁and', '▁', '[GPE]', '▁striker', '▁is', '▁upset', '▁over', '▁the', '▁early', '▁start', '▁to', '▁the', '▁new', '▁season', '▁.', '▁He', '▁says', ':', '▁We', '▁are', '▁the', '▁principal', '▁actor', 's', ',', '▁but', '▁...', '▁are', '▁never', '▁listen', 'ed', '▁to', '.']\n",
            "[16, 3, 1406, 1341, 10, 2508, 16, 4, 32, 24, 16, 5, 15, 16, 5, 948, 23, 4084, 77, 8, 704, 625, 10, 8, 104, 325, 6, 52, 36, 49, 671, 44, 8, 6686, 1900, 7, 9, 67, 3396, 44, 618, 4851, 20, 10, 32]\n",
            "[PERSON] threatens to quit [ORG]. The [GPE] and [GPE] striker is upset over the early start to the new season . He says: We are the principal actors, but ... are never listened to.\n"
          ]
        }
      ],
      "source": [
        "# \"EVENT\", \"FAC\", \"GPE\", \"LANGUAGE\", \"LAW\", \"LOCATION\", \"NORP\",\n",
        "    # \"ORG\", \"PERSON\", \"PRODUCT\", \"WORK_OF_ART\"\n",
        "\n",
        "spm.SentencePieceTrainer.Train('--input=highlights.txt --model_prefix=m   --user_defined_symbols=[PERSON],[ORG],[GPE]')\n",
        "# makes segmenter instance and loads the model file (m.model)\n",
        "sp = spm.SentencePieceProcessor()\n",
        "sp.load('m.model')\n",
        "\n",
        "# encode: text => id\n",
        "#text='[PERSON] threatens to quit [ORG] '\n",
        "text='[PERSON] threatens to quit [ORG]. The [GPE] and [GPE] striker is upset over the early start to the new season . He says: We are the principal actors, but ... are never listened to.'\n",
        "print(sp.encode_as_pieces(text))\n",
        "print(sp.encode_as_ids(text))\n",
        "\n",
        "# decode: id => text\n",
        "#print(sp.decode_pieces(['▁This', '▁is', '▁a', '▁t', 'est']))\n",
        "print(sp.decode_ids(sp.encode_as_ids(text)))"
      ]
    },
    {
      "cell_type": "code",
      "execution_count": null,
      "metadata": {
        "colab": {
          "base_uri": "https://localhost:8080/"
        },
        "id": "IG-sfLKLGmk8",
        "outputId": "bc5edd86-ce9c-477a-da8a-caf4a17fef01"
      },
      "outputs": [
        {
          "output_type": "stream",
          "name": "stdout",
          "text": [
            "['▁', '[PERSON]', '▁threatens', '▁to', '▁quit', '▁', '[ORG]', '▁.', '▁The', '▁', '[GPE]', '▁and', '▁', '[GPE]', '▁striker', '▁is', '▁upset', '▁over', '▁the', '▁early', '▁start', '▁to', '▁the', '▁new', '▁season', '▁.', '▁He', '▁says', ':', '▁We', '▁are', '▁the', '▁principal', '▁actors', ',', '▁but', '▁...', '▁are', '▁never', '▁listened', '▁to', '.']\n"
          ]
        }
      ],
      "source": [
        "# encode: text => id\n",
        "print(sp.encode_as_pieces(anonymized_text))"
      ]
    },
    {
      "cell_type": "code",
      "execution_count": null,
      "metadata": {
        "colab": {
          "base_uri": "https://localhost:8080/",
          "height": 34
        },
        "id": "AEu00FJYh7o2",
        "outputId": "0667112a-a31a-4876-f1c7-ba51733cc5ab"
      },
      "outputs": [
        {
          "output_type": "execute_result",
          "data": {
            "text/plain": [
              "'[PERSON] threatens to quit [ORG] . The [GPE] and [GPE] striker is upset over the early start to the new season . He says: We are the principal actors, but ... are never listened to.'"
            ],
            "application/vnd.google.colaboratory.intrinsic+json": {
              "type": "string"
            }
          },
          "metadata": {},
          "execution_count": 11
        }
      ],
      "source": [
        "anonymized_text"
      ]
    },
    {
      "cell_type": "code",
      "source": [],
      "metadata": {
        "id": "zI-ZJQZVI825"
      },
      "execution_count": null,
      "outputs": []
    }
  ],
  "metadata": {
    "colab": {
      "provenance": [],
      "authorship_tag": "ABX9TyPbHa6lC1/mono314joqucY",
      "include_colab_link": true
    },
    "kernelspec": {
      "display_name": "Python 3",
      "name": "python3"
    },
    "language_info": {
      "name": "python"
    }
  },
  "nbformat": 4,
  "nbformat_minor": 0
}